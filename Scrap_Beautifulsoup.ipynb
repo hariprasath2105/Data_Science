{
  "nbformat": 4,
  "nbformat_minor": 0,
  "metadata": {
    "colab": {
      "provenance": [],
      "mount_file_id": "1u_fYaegM3jGb7pbMWbYQWcEzj2L8Wwl5",
      "authorship_tag": "ABX9TyP7fXcQ6wCY6GrfR+1sj3fb",
      "include_colab_link": true
    },
    "kernelspec": {
      "name": "python3",
      "display_name": "Python 3"
    },
    "language_info": {
      "name": "python"
    }
  },
  "cells": [
    {
      "cell_type": "markdown",
      "metadata": {
        "id": "view-in-github",
        "colab_type": "text"
      },
      "source": [
        "<a href=\"https://colab.research.google.com/github/hariprasath2105/Data_Science/blob/main/Scrap_Beautifulsoup.ipynb\" target=\"_parent\"><img src=\"https://colab.research.google.com/assets/colab-badge.svg\" alt=\"Open In Colab\"/></a>"
      ]
    },
    {
      "cell_type": "code",
      "execution_count": 41,
      "metadata": {
        "id": "QzzhxR5UBmyt"
      },
      "outputs": [],
      "source": [
        "import requests\n",
        "from bs4 import BeautifulSoup\n",
        "from openpyxl import Workbook\n",
        "from lxml import html\n",
        "from IPython.display import FileLink"
      ]
    },
    {
      "cell_type": "code",
      "source": [
        "url = \"https://books.toscrape.com/\"\n",
        "response = requests.get(url)"
      ],
      "metadata": {
        "id": "TeFYhyk8B3Q7"
      },
      "execution_count": 42,
      "outputs": []
    },
    {
      "cell_type": "code",
      "source": [
        "soup = BeautifulSoup(response.content, \"html.parser\")\n",
        "print(f\"Page: {soup.title.text}\")"
      ],
      "metadata": {
        "id": "cPmdLrTbDcwB",
        "colab": {
          "base_uri": "https://localhost:8080/"
        },
        "outputId": "2d39d546-1ced-4120-e95e-2494fed3835e"
      },
      "execution_count": 48,
      "outputs": [
        {
          "output_type": "stream",
          "name": "stdout",
          "text": [
            "Page: \n",
            "    All products | Books to Scrape - Sandbox\n",
            "\n"
          ]
        }
      ]
    },
    {
      "cell_type": "code",
      "source": [
        "titles = soup.select('article.product_pod h3 a[title]')\n",
        "prices = soup.select('article.product_pod .price_color')\n",
        "ratings = soup.select('article.product_pod .star-rating')"
      ],
      "metadata": {
        "id": "hYinwMFBC4j0"
      },
      "execution_count": 43,
      "outputs": []
    },
    {
      "cell_type": "code",
      "source": [
        "book_titles = [title[\"title\"] for title in titles]\n",
        "book_prices = [price.get_text() for price in prices]\n",
        "book_ratings = [rating[\"class\"][1] for rating in ratings]"
      ],
      "metadata": {
        "id": "yn_ii0U0C7ya"
      },
      "execution_count": 44,
      "outputs": []
    },
    {
      "cell_type": "code",
      "source": [
        "wb = Workbook()\n",
        "sheet = wb.active\n",
        "sheet.append([\"Title\", \"Price\", \"Rating\"])"
      ],
      "metadata": {
        "id": "9jUbH2SJN8l3"
      },
      "execution_count": 45,
      "outputs": []
    },
    {
      "cell_type": "code",
      "source": [
        "for i in range(len(book_titles)):\n",
        "    sheet.append([book_titles[i], book_prices[i], book_ratings[i]])"
      ],
      "metadata": {
        "id": "NTBYW-IoDLfK"
      },
      "execution_count": 46,
      "outputs": []
    },
    {
      "cell_type": "code",
      "source": [
        "file_name = \"books_data.xlsx\"\n",
        "wb.save(file_name)\n",
        "from google.colab import files\n",
        "files.download(file_name)"
      ],
      "metadata": {
        "colab": {
          "base_uri": "https://localhost:8080/",
          "height": 17
        },
        "id": "gZztAae9DYWj",
        "outputId": "4237b905-2bbe-45a6-ed13-7423e9334da9"
      },
      "execution_count": 49,
      "outputs": [
        {
          "output_type": "display_data",
          "data": {
            "text/plain": [
              "<IPython.core.display.Javascript object>"
            ],
            "application/javascript": [
              "\n",
              "    async function download(id, filename, size) {\n",
              "      if (!google.colab.kernel.accessAllowed) {\n",
              "        return;\n",
              "      }\n",
              "      const div = document.createElement('div');\n",
              "      const label = document.createElement('label');\n",
              "      label.textContent = `Downloading \"${filename}\": `;\n",
              "      div.appendChild(label);\n",
              "      const progress = document.createElement('progress');\n",
              "      progress.max = size;\n",
              "      div.appendChild(progress);\n",
              "      document.body.appendChild(div);\n",
              "\n",
              "      const buffers = [];\n",
              "      let downloaded = 0;\n",
              "\n",
              "      const channel = await google.colab.kernel.comms.open(id);\n",
              "      // Send a message to notify the kernel that we're ready.\n",
              "      channel.send({})\n",
              "\n",
              "      for await (const message of channel.messages) {\n",
              "        // Send a message to notify the kernel that we're ready.\n",
              "        channel.send({})\n",
              "        if (message.buffers) {\n",
              "          for (const buffer of message.buffers) {\n",
              "            buffers.push(buffer);\n",
              "            downloaded += buffer.byteLength;\n",
              "            progress.value = downloaded;\n",
              "          }\n",
              "        }\n",
              "      }\n",
              "      const blob = new Blob(buffers, {type: 'application/binary'});\n",
              "      const a = document.createElement('a');\n",
              "      a.href = window.URL.createObjectURL(blob);\n",
              "      a.download = filename;\n",
              "      div.appendChild(a);\n",
              "      a.click();\n",
              "      div.remove();\n",
              "    }\n",
              "  "
            ]
          },
          "metadata": {}
        },
        {
          "output_type": "display_data",
          "data": {
            "text/plain": [
              "<IPython.core.display.Javascript object>"
            ],
            "application/javascript": [
              "download(\"download_b07b59fd-daa1-43fb-ad86-85cc51329de5\", \"books_data.xlsx\", 5763)"
            ]
          },
          "metadata": {}
        }
      ]
    },
    {
      "cell_type": "code",
      "source": [],
      "metadata": {
        "id": "He7sML0xOl-m"
      },
      "execution_count": null,
      "outputs": []
    }
  ]
}